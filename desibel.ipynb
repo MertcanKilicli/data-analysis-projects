{
 "cells": [
  {
   "cell_type": "markdown",
   "metadata": {
    "collapsed": true
   },
   "source": [
    "# MERTCAN KILIÇLI 19050372"
   ]
  },
  {
   "cell_type": "markdown",
   "metadata": {},
   "source": [
    "## Özel konu ödevi 2"
   ]
  },
  {
   "cell_type": "markdown",
   "metadata": {},
   "source": [
    "Gürültü desibel ile ölçülür ve dB ile gösterilir. Bir desibel iyi işiten birinin sessiz bir ortamda işitebileceği en zayıf ses düzeyi civarındadır. bir fısıltı yaklaşık 30 dB'dir.Normal konuşmada insan sesi 70 dB civarındadır, gürültülü bir radyo yaklaşık 100 dB'dir.Kulak rahatsızlığı çoğunlukla 120 dB civarındaki bir gürültüde ortaya çıkar.\n",
    "İzleyen veri 36 farklı zamanda Manhattan'da Büyük Merkez İstasyon'un dışında ölçülmüş gürültü düzeylerini gösteriyor.\n",
    "\n",
    "(82,89,94,110,74,122,112,95,100,78,65,60,90,83,87,75,114,85,69,94,124,115,107,88,97,74,72,68,\n",
    "83,91,90,102,77,125,108,65)\n",
    "\n",
    "Buna göre;\n",
    "\n",
    "(a)Aritmetik ortalama,mod,medyan değerlerini hesaplayınız.\n",
    "\n",
    "(b)Beş sayı özetini belirleyiniz.\n",
    "\n",
    "(c)Kutu grafiğini,dal-yaprak grafiğini çiziniz.\n",
    "\n",
    "(d)verilerin dağılımı hakkında ne dersiniz?\n",
    "\n",
    "(e)Açıklık, çeyreklikler arası açıklık, standart sapma değerlerini belirleyiniz.\n",
    "\n",
    "(f)Verilerin frekans tablosunu oluşturunuz"
   ]
  },
  {
   "cell_type": "code",
   "execution_count": 27,
   "metadata": {},
   "outputs": [],
   "source": [
    "import numpy as np\n",
    "import pandas as pd\n",
    "import matplotlib.pyplot as plt\n",
    "import seaborn as sns\n",
    "from scipy import stats\n",
    "import warnings\n",
    "warnings.simplefilter(action = 'ignore') # uyarıları göz ardı edelim\n",
    "%matplotlib inline"
   ]
  },
  {
   "cell_type": "code",
   "execution_count": 42,
   "metadata": {},
   "outputs": [],
   "source": [
    "#veriyi numpy dizisi olarak girelim\n",
    "df = np.array([82,89,94,110,74,122,112,95,100,78,65,60,90,83,87,75,114,85,69,94,124,115,107,88,97,74,72,68,83,91,90,102,77,125,108,65])"
   ]
  },
  {
   "cell_type": "code",
   "execution_count": 43,
   "metadata": {},
   "outputs": [
    {
     "data": {
      "text/plain": [
       "array([ 82,  89,  94, 110,  74, 122, 112,  95, 100,  78,  65,  60,  90,\n",
       "        83,  87,  75, 114,  85,  69,  94, 124, 115, 107,  88,  97,  74,\n",
       "        72,  68,  83,  91,  90, 102,  77, 125, 108,  65])"
      ]
     },
     "execution_count": 43,
     "metadata": {},
     "output_type": "execute_result"
    }
   ],
   "source": [
    "#Veriyi bir dizi olarak göstermek için tanımladığımız şekilde yazdılarım\n",
    "df"
   ]
  },
  {
   "cell_type": "code",
   "execution_count": 44,
   "metadata": {},
   "outputs": [
    {
     "data": {
      "text/plain": [
       "dtype('int64')"
      ]
     },
     "execution_count": 44,
     "metadata": {},
     "output_type": "execute_result"
    }
   ],
   "source": [
    "df.dtype"
   ]
  },
  {
   "cell_type": "markdown",
   "metadata": {},
   "source": [
    "int64 dediğimizde anlaşılması gereken Integer yani tam sayının(-92 ile +92 arasında olduğunu gösteriyor"
   ]
  },
  {
   "cell_type": "code",
   "execution_count": 45,
   "metadata": {},
   "outputs": [
    {
     "data": {
      "text/plain": [
       "(36,)"
      ]
     },
     "execution_count": 45,
     "metadata": {},
     "output_type": "execute_result"
    }
   ],
   "source": [
    "#dizinin boyutlarını görmek için shape özelliğini kullanalım\n",
    "df.shape"
   ]
  },
  {
   "cell_type": "code",
   "execution_count": 46,
   "metadata": {},
   "outputs": [
    {
     "data": {
      "text/plain": [
       "1"
      ]
     },
     "execution_count": 46,
     "metadata": {},
     "output_type": "execute_result"
    }
   ],
   "source": [
    "#dizinin boyut sayısı. ndim özelliği ile öğrenilir.\n",
    "df.ndim"
   ]
  },
  {
   "cell_type": "markdown",
   "metadata": {},
   "source": [
    "#### Aritmetik Ortalama"
   ]
  },
  {
   "cell_type": "markdown",
   "metadata": {},
   "source": [
    "En çok kullanılan merkezi eğilim ölçüsüdür.Birimlerin belirli bir değişken bakımından aldıkları değerlerin toplamının birim sayısına bölümü olarak tanımlanır.Eşit aralıklı ve oran ölçme düzeyinde ölçülen değişkenler için kullanılır.(Nicel veriler) Hem kitle hem de örneklem için hesaplanır.(Kitle değerlerine her zaman ulaşılması mümkün olmayacağından çoğunlukla kitleden rasgele olarak alınan örneğin aritmetik ortalamasına ihtiyaç duyulur.)"
   ]
  },
  {
   "cell_type": "code",
   "execution_count": 47,
   "metadata": {},
   "outputs": [
    {
     "name": "stdout",
     "output_type": "stream",
     "text": [
      "90.66666666666667\n"
     ]
    }
   ],
   "source": [
    "#Ortalama hesabını yapabilmek için \n",
    "toplam = np.sum(df) #toplam\n",
    "ortalama = toplam/36 #ortalama\n",
    "print(ortalama)"
   ]
  },
  {
   "cell_type": "markdown",
   "metadata": {},
   "source": [
    "#### Tepe Değer (Mod)"
   ]
  },
  {
   "cell_type": "markdown",
   "metadata": {},
   "source": [
    "Bir veri kümesinde en çok tekrarlanan değerdir.Birimlerin küçükten büyüğe \n",
    "sıraya dizilmesi işleminin yapılmasına kolaylık sağlar."
   ]
  },
  {
   "cell_type": "code",
   "execution_count": 48,
   "metadata": {},
   "outputs": [
    {
     "data": {
      "text/plain": [
       "ModeResult(mode=array([65]), count=array([2]))"
      ]
     },
     "execution_count": 48,
     "metadata": {},
     "output_type": "execute_result"
    }
   ],
   "source": [
    "stats.mode(df)"
   ]
  },
  {
   "cell_type": "markdown",
   "metadata": {},
   "source": [
    "#### Medyan"
   ]
  },
  {
   "cell_type": "markdown",
   "metadata": {},
   "source": [
    "Bir veri kümesindeki değerler en küçükten en büyüğe sıralandığında tam ortaya düşen değere denir. Kitledeki birim sayısı fazla olduğunda kullanılabilir. \n",
    "Eşit aralıklı, oran ve sıralama ölçme düzeyinde ölçülen değişkenler için kullanılır."
   ]
  },
  {
   "cell_type": "code",
   "execution_count": 49,
   "metadata": {},
   "outputs": [
    {
     "data": {
      "text/plain": [
       "89.5"
      ]
     },
     "execution_count": 49,
     "metadata": {},
     "output_type": "execute_result"
    }
   ],
   "source": [
    "#medyanı hesaplamak için\n",
    "np.median(df)"
   ]
  },
  {
   "cell_type": "markdown",
   "metadata": {},
   "source": [
    "##### Pandas ve NumPy serilerilerinde beş sayı özeti"
   ]
  },
  {
   "cell_type": "markdown",
   "metadata": {},
   "source": [
    "İstatistik alanında çeşitli tanımlayıcılar vardır. Ortalama, medyan , mod, çarpıklık , basıklık, standart sapma,ilk dörtte birlik ve üçüncü çeyrek gibi sayılar, her biri bize veri ile alakalı çeşitli tanımlar yaparlar. Bu tanımlayıcı istatistiklere ayrı ayrı bakmak yerine, bazen bunları birleştirmek bize tam bir resim vermemize yardımcı olur. Bu düşünceyle, beş sayı özeti beş tanımlayıcı istatistiği birleştirmenin uygun bir yoludur.\n",
    "Minimum - Veri kümemizde en küçük değerdir.\n",
    "İlk çeyrek - Sayı Q 1 ve verilerinizin% 25'i ilk çeyreğin altına düşüyor.\n",
    "Ortanca - Verilerin orta noktasıdır. Tüm verilerin% 50'si medyanın altına düşer.\n",
    "Üçüncü çeyrek - Sayı Q 3 ve verilerimizin% 75'i üçüncü çeyreğin altına düşüyor.\n",
    "Maksimum - Veri kümemizde en büyük değerdir."
   ]
  },
  {
   "cell_type": "code",
   "execution_count": 52,
   "metadata": {},
   "outputs": [
    {
     "data": {
      "text/plain": [
       "60"
      ]
     },
     "execution_count": 52,
     "metadata": {},
     "output_type": "execute_result"
    }
   ],
   "source": [
    "#Minimum değeri için\n",
    "np.amin(df)"
   ]
  },
  {
   "cell_type": "code",
   "execution_count": 53,
   "metadata": {},
   "outputs": [
    {
     "data": {
      "text/plain": [
       "125"
      ]
     },
     "execution_count": 53,
     "metadata": {},
     "output_type": "execute_result"
    }
   ],
   "source": [
    "#Maximum değeri için\n",
    "np.amax(df)"
   ]
  },
  {
   "cell_type": "code",
   "execution_count": 55,
   "metadata": {},
   "outputs": [
    {
     "data": {
      "text/html": [
       "<div>\n",
       "<style scoped>\n",
       "    .dataframe tbody tr th:only-of-type {\n",
       "        vertical-align: middle;\n",
       "    }\n",
       "\n",
       "    .dataframe tbody tr th {\n",
       "        vertical-align: top;\n",
       "    }\n",
       "\n",
       "    .dataframe thead th {\n",
       "        text-align: right;\n",
       "    }\n",
       "</style>\n",
       "<table border=\"1\" class=\"dataframe\">\n",
       "  <thead>\n",
       "    <tr style=\"text-align: right;\">\n",
       "      <th></th>\n",
       "      <th>0</th>\n",
       "    </tr>\n",
       "  </thead>\n",
       "  <tbody>\n",
       "    <tr>\n",
       "      <th>0</th>\n",
       "      <td>82</td>\n",
       "    </tr>\n",
       "    <tr>\n",
       "      <th>1</th>\n",
       "      <td>89</td>\n",
       "    </tr>\n",
       "    <tr>\n",
       "      <th>2</th>\n",
       "      <td>94</td>\n",
       "    </tr>\n",
       "    <tr>\n",
       "      <th>3</th>\n",
       "      <td>110</td>\n",
       "    </tr>\n",
       "    <tr>\n",
       "      <th>4</th>\n",
       "      <td>74</td>\n",
       "    </tr>\n",
       "    <tr>\n",
       "      <th>5</th>\n",
       "      <td>122</td>\n",
       "    </tr>\n",
       "    <tr>\n",
       "      <th>6</th>\n",
       "      <td>112</td>\n",
       "    </tr>\n",
       "    <tr>\n",
       "      <th>7</th>\n",
       "      <td>95</td>\n",
       "    </tr>\n",
       "    <tr>\n",
       "      <th>8</th>\n",
       "      <td>100</td>\n",
       "    </tr>\n",
       "    <tr>\n",
       "      <th>9</th>\n",
       "      <td>78</td>\n",
       "    </tr>\n",
       "    <tr>\n",
       "      <th>10</th>\n",
       "      <td>65</td>\n",
       "    </tr>\n",
       "    <tr>\n",
       "      <th>11</th>\n",
       "      <td>60</td>\n",
       "    </tr>\n",
       "    <tr>\n",
       "      <th>12</th>\n",
       "      <td>90</td>\n",
       "    </tr>\n",
       "    <tr>\n",
       "      <th>13</th>\n",
       "      <td>83</td>\n",
       "    </tr>\n",
       "    <tr>\n",
       "      <th>14</th>\n",
       "      <td>87</td>\n",
       "    </tr>\n",
       "    <tr>\n",
       "      <th>15</th>\n",
       "      <td>75</td>\n",
       "    </tr>\n",
       "    <tr>\n",
       "      <th>16</th>\n",
       "      <td>114</td>\n",
       "    </tr>\n",
       "    <tr>\n",
       "      <th>17</th>\n",
       "      <td>85</td>\n",
       "    </tr>\n",
       "    <tr>\n",
       "      <th>18</th>\n",
       "      <td>69</td>\n",
       "    </tr>\n",
       "    <tr>\n",
       "      <th>19</th>\n",
       "      <td>94</td>\n",
       "    </tr>\n",
       "    <tr>\n",
       "      <th>20</th>\n",
       "      <td>124</td>\n",
       "    </tr>\n",
       "    <tr>\n",
       "      <th>21</th>\n",
       "      <td>115</td>\n",
       "    </tr>\n",
       "    <tr>\n",
       "      <th>22</th>\n",
       "      <td>107</td>\n",
       "    </tr>\n",
       "    <tr>\n",
       "      <th>23</th>\n",
       "      <td>88</td>\n",
       "    </tr>\n",
       "    <tr>\n",
       "      <th>24</th>\n",
       "      <td>97</td>\n",
       "    </tr>\n",
       "    <tr>\n",
       "      <th>25</th>\n",
       "      <td>74</td>\n",
       "    </tr>\n",
       "    <tr>\n",
       "      <th>26</th>\n",
       "      <td>72</td>\n",
       "    </tr>\n",
       "    <tr>\n",
       "      <th>27</th>\n",
       "      <td>68</td>\n",
       "    </tr>\n",
       "    <tr>\n",
       "      <th>28</th>\n",
       "      <td>83</td>\n",
       "    </tr>\n",
       "    <tr>\n",
       "      <th>29</th>\n",
       "      <td>91</td>\n",
       "    </tr>\n",
       "    <tr>\n",
       "      <th>30</th>\n",
       "      <td>90</td>\n",
       "    </tr>\n",
       "    <tr>\n",
       "      <th>31</th>\n",
       "      <td>102</td>\n",
       "    </tr>\n",
       "    <tr>\n",
       "      <th>32</th>\n",
       "      <td>77</td>\n",
       "    </tr>\n",
       "    <tr>\n",
       "      <th>33</th>\n",
       "      <td>125</td>\n",
       "    </tr>\n",
       "    <tr>\n",
       "      <th>34</th>\n",
       "      <td>108</td>\n",
       "    </tr>\n",
       "    <tr>\n",
       "      <th>35</th>\n",
       "      <td>65</td>\n",
       "    </tr>\n",
       "  </tbody>\n",
       "</table>\n",
       "</div>"
      ],
      "text/plain": [
       "      0\n",
       "0    82\n",
       "1    89\n",
       "2    94\n",
       "3   110\n",
       "4    74\n",
       "5   122\n",
       "6   112\n",
       "7    95\n",
       "8   100\n",
       "9    78\n",
       "10   65\n",
       "11   60\n",
       "12   90\n",
       "13   83\n",
       "14   87\n",
       "15   75\n",
       "16  114\n",
       "17   85\n",
       "18   69\n",
       "19   94\n",
       "20  124\n",
       "21  115\n",
       "22  107\n",
       "23   88\n",
       "24   97\n",
       "25   74\n",
       "26   72\n",
       "27   68\n",
       "28   83\n",
       "29   91\n",
       "30   90\n",
       "31  102\n",
       "32   77\n",
       "33  125\n",
       "34  108\n",
       "35   65"
      ]
     },
     "execution_count": 55,
     "metadata": {},
     "output_type": "execute_result"
    }
   ],
   "source": [
    "#veriyi matris haline getirelim\n",
    "df = pd.DataFrame(df); df"
   ]
  },
  {
   "cell_type": "code",
   "execution_count": 56,
   "metadata": {},
   "outputs": [
    {
     "data": {
      "text/html": [
       "<div>\n",
       "<style scoped>\n",
       "    .dataframe tbody tr th:only-of-type {\n",
       "        vertical-align: middle;\n",
       "    }\n",
       "\n",
       "    .dataframe tbody tr th {\n",
       "        vertical-align: top;\n",
       "    }\n",
       "\n",
       "    .dataframe thead th {\n",
       "        text-align: right;\n",
       "    }\n",
       "</style>\n",
       "<table border=\"1\" class=\"dataframe\">\n",
       "  <thead>\n",
       "    <tr style=\"text-align: right;\">\n",
       "      <th></th>\n",
       "      <th>0</th>\n",
       "      <th>1</th>\n",
       "      <th>2</th>\n",
       "      <th>3</th>\n",
       "      <th>4</th>\n",
       "      <th>5</th>\n",
       "      <th>6</th>\n",
       "      <th>7</th>\n",
       "      <th>8</th>\n",
       "      <th>9</th>\n",
       "      <th>...</th>\n",
       "      <th>26</th>\n",
       "      <th>27</th>\n",
       "      <th>28</th>\n",
       "      <th>29</th>\n",
       "      <th>30</th>\n",
       "      <th>31</th>\n",
       "      <th>32</th>\n",
       "      <th>33</th>\n",
       "      <th>34</th>\n",
       "      <th>35</th>\n",
       "    </tr>\n",
       "  </thead>\n",
       "  <tbody>\n",
       "    <tr>\n",
       "      <th>0</th>\n",
       "      <td>82</td>\n",
       "      <td>89</td>\n",
       "      <td>94</td>\n",
       "      <td>110</td>\n",
       "      <td>74</td>\n",
       "      <td>122</td>\n",
       "      <td>112</td>\n",
       "      <td>95</td>\n",
       "      <td>100</td>\n",
       "      <td>78</td>\n",
       "      <td>...</td>\n",
       "      <td>72</td>\n",
       "      <td>68</td>\n",
       "      <td>83</td>\n",
       "      <td>91</td>\n",
       "      <td>90</td>\n",
       "      <td>102</td>\n",
       "      <td>77</td>\n",
       "      <td>125</td>\n",
       "      <td>108</td>\n",
       "      <td>65</td>\n",
       "    </tr>\n",
       "  </tbody>\n",
       "</table>\n",
       "<p>1 rows × 36 columns</p>\n",
       "</div>"
      ],
      "text/plain": [
       "   0   1   2    3   4    5    6   7    8   9   ...  26  27  28  29  30   31  \\\n",
       "0  82  89  94  110  74  122  112  95  100  78  ...  72  68  83  91  90  102   \n",
       "\n",
       "   32   33   34  35  \n",
       "0  77  125  108  65  \n",
       "\n",
       "[1 rows x 36 columns]"
      ]
     },
     "execution_count": 56,
     "metadata": {},
     "output_type": "execute_result"
    }
   ],
   "source": [
    "#Verinin transpozunu almamız görsel açıdan veriyi daha iyi görmemizi sağlar\n",
    "veri=df.T; veri"
   ]
  },
  {
   "cell_type": "code",
   "execution_count": 58,
   "metadata": {},
   "outputs": [],
   "source": [
    "#Veriyi kolon olarak okutmamız gerekiyor.\n",
    "df.columns = ['df']"
   ]
  },
  {
   "cell_type": "code",
   "execution_count": 59,
   "metadata": {},
   "outputs": [
    {
     "data": {
      "text/html": [
       "<div>\n",
       "<style scoped>\n",
       "    .dataframe tbody tr th:only-of-type {\n",
       "        vertical-align: middle;\n",
       "    }\n",
       "\n",
       "    .dataframe tbody tr th {\n",
       "        vertical-align: top;\n",
       "    }\n",
       "\n",
       "    .dataframe thead th {\n",
       "        text-align: right;\n",
       "    }\n",
       "</style>\n",
       "<table border=\"1\" class=\"dataframe\">\n",
       "  <thead>\n",
       "    <tr style=\"text-align: right;\">\n",
       "      <th></th>\n",
       "      <th>df</th>\n",
       "    </tr>\n",
       "  </thead>\n",
       "  <tbody>\n",
       "    <tr>\n",
       "      <th>0</th>\n",
       "      <td>82</td>\n",
       "    </tr>\n",
       "    <tr>\n",
       "      <th>1</th>\n",
       "      <td>89</td>\n",
       "    </tr>\n",
       "    <tr>\n",
       "      <th>2</th>\n",
       "      <td>94</td>\n",
       "    </tr>\n",
       "    <tr>\n",
       "      <th>3</th>\n",
       "      <td>110</td>\n",
       "    </tr>\n",
       "    <tr>\n",
       "      <th>4</th>\n",
       "      <td>74</td>\n",
       "    </tr>\n",
       "    <tr>\n",
       "      <th>5</th>\n",
       "      <td>122</td>\n",
       "    </tr>\n",
       "    <tr>\n",
       "      <th>6</th>\n",
       "      <td>112</td>\n",
       "    </tr>\n",
       "    <tr>\n",
       "      <th>7</th>\n",
       "      <td>95</td>\n",
       "    </tr>\n",
       "    <tr>\n",
       "      <th>8</th>\n",
       "      <td>100</td>\n",
       "    </tr>\n",
       "    <tr>\n",
       "      <th>9</th>\n",
       "      <td>78</td>\n",
       "    </tr>\n",
       "    <tr>\n",
       "      <th>10</th>\n",
       "      <td>65</td>\n",
       "    </tr>\n",
       "    <tr>\n",
       "      <th>11</th>\n",
       "      <td>60</td>\n",
       "    </tr>\n",
       "    <tr>\n",
       "      <th>12</th>\n",
       "      <td>90</td>\n",
       "    </tr>\n",
       "    <tr>\n",
       "      <th>13</th>\n",
       "      <td>83</td>\n",
       "    </tr>\n",
       "    <tr>\n",
       "      <th>14</th>\n",
       "      <td>87</td>\n",
       "    </tr>\n",
       "    <tr>\n",
       "      <th>15</th>\n",
       "      <td>75</td>\n",
       "    </tr>\n",
       "    <tr>\n",
       "      <th>16</th>\n",
       "      <td>114</td>\n",
       "    </tr>\n",
       "    <tr>\n",
       "      <th>17</th>\n",
       "      <td>85</td>\n",
       "    </tr>\n",
       "    <tr>\n",
       "      <th>18</th>\n",
       "      <td>69</td>\n",
       "    </tr>\n",
       "    <tr>\n",
       "      <th>19</th>\n",
       "      <td>94</td>\n",
       "    </tr>\n",
       "    <tr>\n",
       "      <th>20</th>\n",
       "      <td>124</td>\n",
       "    </tr>\n",
       "    <tr>\n",
       "      <th>21</th>\n",
       "      <td>115</td>\n",
       "    </tr>\n",
       "    <tr>\n",
       "      <th>22</th>\n",
       "      <td>107</td>\n",
       "    </tr>\n",
       "    <tr>\n",
       "      <th>23</th>\n",
       "      <td>88</td>\n",
       "    </tr>\n",
       "    <tr>\n",
       "      <th>24</th>\n",
       "      <td>97</td>\n",
       "    </tr>\n",
       "    <tr>\n",
       "      <th>25</th>\n",
       "      <td>74</td>\n",
       "    </tr>\n",
       "    <tr>\n",
       "      <th>26</th>\n",
       "      <td>72</td>\n",
       "    </tr>\n",
       "    <tr>\n",
       "      <th>27</th>\n",
       "      <td>68</td>\n",
       "    </tr>\n",
       "    <tr>\n",
       "      <th>28</th>\n",
       "      <td>83</td>\n",
       "    </tr>\n",
       "    <tr>\n",
       "      <th>29</th>\n",
       "      <td>91</td>\n",
       "    </tr>\n",
       "    <tr>\n",
       "      <th>30</th>\n",
       "      <td>90</td>\n",
       "    </tr>\n",
       "    <tr>\n",
       "      <th>31</th>\n",
       "      <td>102</td>\n",
       "    </tr>\n",
       "    <tr>\n",
       "      <th>32</th>\n",
       "      <td>77</td>\n",
       "    </tr>\n",
       "    <tr>\n",
       "      <th>33</th>\n",
       "      <td>125</td>\n",
       "    </tr>\n",
       "    <tr>\n",
       "      <th>34</th>\n",
       "      <td>108</td>\n",
       "    </tr>\n",
       "    <tr>\n",
       "      <th>35</th>\n",
       "      <td>65</td>\n",
       "    </tr>\n",
       "  </tbody>\n",
       "</table>\n",
       "</div>"
      ],
      "text/plain": [
       "     df\n",
       "0    82\n",
       "1    89\n",
       "2    94\n",
       "3   110\n",
       "4    74\n",
       "5   122\n",
       "6   112\n",
       "7    95\n",
       "8   100\n",
       "9    78\n",
       "10   65\n",
       "11   60\n",
       "12   90\n",
       "13   83\n",
       "14   87\n",
       "15   75\n",
       "16  114\n",
       "17   85\n",
       "18   69\n",
       "19   94\n",
       "20  124\n",
       "21  115\n",
       "22  107\n",
       "23   88\n",
       "24   97\n",
       "25   74\n",
       "26   72\n",
       "27   68\n",
       "28   83\n",
       "29   91\n",
       "30   90\n",
       "31  102\n",
       "32   77\n",
       "33  125\n",
       "34  108\n",
       "35   65"
      ]
     },
     "execution_count": 59,
     "metadata": {},
     "output_type": "execute_result"
    }
   ],
   "source": [
    "df"
   ]
  },
  {
   "cell_type": "code",
   "execution_count": 61,
   "metadata": {},
   "outputs": [
    {
     "data": {
      "text/plain": [
       "<AxesSubplot:xlabel='df', ylabel='Count'>"
      ]
     },
     "execution_count": 61,
     "metadata": {},
     "output_type": "execute_result"
    },
    {
     "data": {
      "image/png": "[encoded data removed]",
      "text/plain": [
       "<Figure size 640x480 with 1 Axes>"
      ]
     },
     "metadata": {},
     "output_type": "display_data"
    }
   ],
   "source": [
    "#Verinin histogram grafiğini yazdırmak istediğimiz için\n",
    "sns.histplot(df[\"df\"])"
   ]
  },
  {
   "cell_type": "code",
   "execution_count": 62,
   "metadata": {},
   "outputs": [
    {
     "data": {
      "text/plain": [
       "(36, 1)"
      ]
     },
     "execution_count": 62,
     "metadata": {},
     "output_type": "execute_result"
    }
   ],
   "source": [
    "#Şimdi verinin kaça kaç bir matris olduğunuu öğrenmek istersek\n",
    "df.shape"
   ]
  },
  {
   "cell_type": "code",
   "execution_count": 63,
   "metadata": {},
   "outputs": [
    {
     "data": {
      "text/html": [
       "<div>\n",
       "<style scoped>\n",
       "    .dataframe tbody tr th:only-of-type {\n",
       "        vertical-align: middle;\n",
       "    }\n",
       "\n",
       "    .dataframe tbody tr th {\n",
       "        vertical-align: top;\n",
       "    }\n",
       "\n",
       "    .dataframe thead th {\n",
       "        text-align: right;\n",
       "    }\n",
       "</style>\n",
       "<table border=\"1\" class=\"dataframe\">\n",
       "  <thead>\n",
       "    <tr style=\"text-align: right;\">\n",
       "      <th></th>\n",
       "      <th>df</th>\n",
       "    </tr>\n",
       "  </thead>\n",
       "  <tbody>\n",
       "    <tr>\n",
       "      <th>count</th>\n",
       "      <td>36.000000</td>\n",
       "    </tr>\n",
       "    <tr>\n",
       "      <th>mean</th>\n",
       "      <td>90.666667</td>\n",
       "    </tr>\n",
       "    <tr>\n",
       "      <th>std</th>\n",
       "      <td>17.798876</td>\n",
       "    </tr>\n",
       "    <tr>\n",
       "      <th>min</th>\n",
       "      <td>60.000000</td>\n",
       "    </tr>\n",
       "    <tr>\n",
       "      <th>25%</th>\n",
       "      <td>76.500000</td>\n",
       "    </tr>\n",
       "    <tr>\n",
       "      <th>50%</th>\n",
       "      <td>89.500000</td>\n",
       "    </tr>\n",
       "    <tr>\n",
       "      <th>75%</th>\n",
       "      <td>103.250000</td>\n",
       "    </tr>\n",
       "    <tr>\n",
       "      <th>max</th>\n",
       "      <td>125.000000</td>\n",
       "    </tr>\n",
       "  </tbody>\n",
       "</table>\n",
       "</div>"
      ],
      "text/plain": [
       "               df\n",
       "count   36.000000\n",
       "mean    90.666667\n",
       "std     17.798876\n",
       "min     60.000000\n",
       "25%     76.500000\n",
       "50%     89.500000\n",
       "75%    103.250000\n",
       "max    125.000000"
      ]
     },
     "execution_count": 63,
     "metadata": {},
     "output_type": "execute_result"
    }
   ],
   "source": [
    "#İlk çeyrek,Ortanca çeyrek ve son çeyrek değerleri için veriyi describe\n",
    "#komutu ile yazdıralım\n",
    "df.describe()"
   ]
  },
  {
   "cell_type": "markdown",
   "metadata": {},
   "source": [
    "Ortalama, medyan , mod, çarpıklık , basıklık, standart sapma , ilk dörtte birlik ve üçüncü çeyrek gibi sayılar, her biri bize ismimizle ilgili bir şeyler söyler. Bu tanımlayıcı istatistiklere ayrı ayrı bakmak yerine, bazen bunları birleştirmek bize tam bir resim vermemize yardımcı olur.\n",
    "Seçilen rakamlar, verilerin merkezini bilmemize ve veri noktalarının ne kadar yayıldığına yardımcı olmaktır. "
   ]
  },
  {
   "cell_type": "code",
   "execution_count": 53,
   "metadata": {},
   "outputs": [
    {
     "data": {
      "text/html": [
       "<div>\n",
       "<style scoped>\n",
       "    .dataframe tbody tr th:only-of-type {\n",
       "        vertical-align: middle;\n",
       "    }\n",
       "\n",
       "    .dataframe tbody tr th {\n",
       "        vertical-align: top;\n",
       "    }\n",
       "\n",
       "    .dataframe thead th {\n",
       "        text-align: right;\n",
       "    }\n",
       "</style>\n",
       "<table border=\"1\" class=\"dataframe\">\n",
       "  <thead>\n",
       "    <tr style=\"text-align: right;\">\n",
       "      <th></th>\n",
       "      <th>0</th>\n",
       "      <th>1</th>\n",
       "      <th>2</th>\n",
       "      <th>3</th>\n",
       "      <th>4</th>\n",
       "      <th>5</th>\n",
       "      <th>6</th>\n",
       "      <th>7</th>\n",
       "      <th>8</th>\n",
       "      <th>9</th>\n",
       "      <th>...</th>\n",
       "      <th>25</th>\n",
       "      <th>26</th>\n",
       "      <th>27</th>\n",
       "      <th>28</th>\n",
       "      <th>29</th>\n",
       "      <th>30</th>\n",
       "      <th>31</th>\n",
       "      <th>32</th>\n",
       "      <th>33</th>\n",
       "      <th>34</th>\n",
       "    </tr>\n",
       "  </thead>\n",
       "  <tbody>\n",
       "    <tr>\n",
       "      <th>count</th>\n",
       "      <td>1.0</td>\n",
       "      <td>1.0</td>\n",
       "      <td>1.0</td>\n",
       "      <td>1.0</td>\n",
       "      <td>1.0</td>\n",
       "      <td>1.0</td>\n",
       "      <td>1.0</td>\n",
       "      <td>1.0</td>\n",
       "      <td>1.0</td>\n",
       "      <td>1.0</td>\n",
       "      <td>...</td>\n",
       "      <td>1.0</td>\n",
       "      <td>1.0</td>\n",
       "      <td>1.0</td>\n",
       "      <td>1.0</td>\n",
       "      <td>1.0</td>\n",
       "      <td>1.0</td>\n",
       "      <td>1.0</td>\n",
       "      <td>1.0</td>\n",
       "      <td>1.0</td>\n",
       "      <td>1.0</td>\n",
       "    </tr>\n",
       "    <tr>\n",
       "      <th>mean</th>\n",
       "      <td>82.0</td>\n",
       "      <td>89.0</td>\n",
       "      <td>94.0</td>\n",
       "      <td>110.0</td>\n",
       "      <td>74.0</td>\n",
       "      <td>122.0</td>\n",
       "      <td>112.0</td>\n",
       "      <td>95.0</td>\n",
       "      <td>100.0</td>\n",
       "      <td>78.0</td>\n",
       "      <td>...</td>\n",
       "      <td>74.0</td>\n",
       "      <td>72.0</td>\n",
       "      <td>68.0</td>\n",
       "      <td>83.0</td>\n",
       "      <td>91.0</td>\n",
       "      <td>90.0</td>\n",
       "      <td>102.0</td>\n",
       "      <td>77.0</td>\n",
       "      <td>125.0</td>\n",
       "      <td>108.0</td>\n",
       "    </tr>\n",
       "    <tr>\n",
       "      <th>std</th>\n",
       "      <td>NaN</td>\n",
       "      <td>NaN</td>\n",
       "      <td>NaN</td>\n",
       "      <td>NaN</td>\n",
       "      <td>NaN</td>\n",
       "      <td>NaN</td>\n",
       "      <td>NaN</td>\n",
       "      <td>NaN</td>\n",
       "      <td>NaN</td>\n",
       "      <td>NaN</td>\n",
       "      <td>...</td>\n",
       "      <td>NaN</td>\n",
       "      <td>NaN</td>\n",
       "      <td>NaN</td>\n",
       "      <td>NaN</td>\n",
       "      <td>NaN</td>\n",
       "      <td>NaN</td>\n",
       "      <td>NaN</td>\n",
       "      <td>NaN</td>\n",
       "      <td>NaN</td>\n",
       "      <td>NaN</td>\n",
       "    </tr>\n",
       "    <tr>\n",
       "      <th>min</th>\n",
       "      <td>82.0</td>\n",
       "      <td>89.0</td>\n",
       "      <td>94.0</td>\n",
       "      <td>110.0</td>\n",
       "      <td>74.0</td>\n",
       "      <td>122.0</td>\n",
       "      <td>112.0</td>\n",
       "      <td>95.0</td>\n",
       "      <td>100.0</td>\n",
       "      <td>78.0</td>\n",
       "      <td>...</td>\n",
       "      <td>74.0</td>\n",
       "      <td>72.0</td>\n",
       "      <td>68.0</td>\n",
       "      <td>83.0</td>\n",
       "      <td>91.0</td>\n",
       "      <td>90.0</td>\n",
       "      <td>102.0</td>\n",
       "      <td>77.0</td>\n",
       "      <td>125.0</td>\n",
       "      <td>108.0</td>\n",
       "    </tr>\n",
       "    <tr>\n",
       "      <th>25%</th>\n",
       "      <td>82.0</td>\n",
       "      <td>89.0</td>\n",
       "      <td>94.0</td>\n",
       "      <td>110.0</td>\n",
       "      <td>74.0</td>\n",
       "      <td>122.0</td>\n",
       "      <td>112.0</td>\n",
       "      <td>95.0</td>\n",
       "      <td>100.0</td>\n",
       "      <td>78.0</td>\n",
       "      <td>...</td>\n",
       "      <td>74.0</td>\n",
       "      <td>72.0</td>\n",
       "      <td>68.0</td>\n",
       "      <td>83.0</td>\n",
       "      <td>91.0</td>\n",
       "      <td>90.0</td>\n",
       "      <td>102.0</td>\n",
       "      <td>77.0</td>\n",
       "      <td>125.0</td>\n",
       "      <td>108.0</td>\n",
       "    </tr>\n",
       "    <tr>\n",
       "      <th>50%</th>\n",
       "      <td>82.0</td>\n",
       "      <td>89.0</td>\n",
       "      <td>94.0</td>\n",
       "      <td>110.0</td>\n",
       "      <td>74.0</td>\n",
       "      <td>122.0</td>\n",
       "      <td>112.0</td>\n",
       "      <td>95.0</td>\n",
       "      <td>100.0</td>\n",
       "      <td>78.0</td>\n",
       "      <td>...</td>\n",
       "      <td>74.0</td>\n",
       "      <td>72.0</td>\n",
       "      <td>68.0</td>\n",
       "      <td>83.0</td>\n",
       "      <td>91.0</td>\n",
       "      <td>90.0</td>\n",
       "      <td>102.0</td>\n",
       "      <td>77.0</td>\n",
       "      <td>125.0</td>\n",
       "      <td>108.0</td>\n",
       "    </tr>\n",
       "    <tr>\n",
       "      <th>75%</th>\n",
       "      <td>82.0</td>\n",
       "      <td>89.0</td>\n",
       "      <td>94.0</td>\n",
       "      <td>110.0</td>\n",
       "      <td>74.0</td>\n",
       "      <td>122.0</td>\n",
       "      <td>112.0</td>\n",
       "      <td>95.0</td>\n",
       "      <td>100.0</td>\n",
       "      <td>78.0</td>\n",
       "      <td>...</td>\n",
       "      <td>74.0</td>\n",
       "      <td>72.0</td>\n",
       "      <td>68.0</td>\n",
       "      <td>83.0</td>\n",
       "      <td>91.0</td>\n",
       "      <td>90.0</td>\n",
       "      <td>102.0</td>\n",
       "      <td>77.0</td>\n",
       "      <td>125.0</td>\n",
       "      <td>108.0</td>\n",
       "    </tr>\n",
       "    <tr>\n",
       "      <th>max</th>\n",
       "      <td>82.0</td>\n",
       "      <td>89.0</td>\n",
       "      <td>94.0</td>\n",
       "      <td>110.0</td>\n",
       "      <td>74.0</td>\n",
       "      <td>122.0</td>\n",
       "      <td>112.0</td>\n",
       "      <td>95.0</td>\n",
       "      <td>100.0</td>\n",
       "      <td>78.0</td>\n",
       "      <td>...</td>\n",
       "      <td>74.0</td>\n",
       "      <td>72.0</td>\n",
       "      <td>68.0</td>\n",
       "      <td>83.0</td>\n",
       "      <td>91.0</td>\n",
       "      <td>90.0</td>\n",
       "      <td>102.0</td>\n",
       "      <td>77.0</td>\n",
       "      <td>125.0</td>\n",
       "      <td>108.0</td>\n",
       "    </tr>\n",
       "  </tbody>\n",
       "</table>\n",
       "<p>8 rows × 35 columns</p>\n",
       "</div>"
      ],
      "text/plain": [
       "         0     1     2      3     4      5      6     7      8     9   ...  \\\n",
       "count   1.0   1.0   1.0    1.0   1.0    1.0    1.0   1.0    1.0   1.0  ...   \n",
       "mean   82.0  89.0  94.0  110.0  74.0  122.0  112.0  95.0  100.0  78.0  ...   \n",
       "std     NaN   NaN   NaN    NaN   NaN    NaN    NaN   NaN    NaN   NaN  ...   \n",
       "min    82.0  89.0  94.0  110.0  74.0  122.0  112.0  95.0  100.0  78.0  ...   \n",
       "25%    82.0  89.0  94.0  110.0  74.0  122.0  112.0  95.0  100.0  78.0  ...   \n",
       "50%    82.0  89.0  94.0  110.0  74.0  122.0  112.0  95.0  100.0  78.0  ...   \n",
       "75%    82.0  89.0  94.0  110.0  74.0  122.0  112.0  95.0  100.0  78.0  ...   \n",
       "max    82.0  89.0  94.0  110.0  74.0  122.0  112.0  95.0  100.0  78.0  ...   \n",
       "\n",
       "         25    26    27    28    29    30     31    32     33     34  \n",
       "count   1.0   1.0   1.0   1.0   1.0   1.0    1.0   1.0    1.0    1.0  \n",
       "mean   74.0  72.0  68.0  83.0  91.0  90.0  102.0  77.0  125.0  108.0  \n",
       "std     NaN   NaN   NaN   NaN   NaN   NaN    NaN   NaN    NaN    NaN  \n",
       "min    74.0  72.0  68.0  83.0  91.0  90.0  102.0  77.0  125.0  108.0  \n",
       "25%    74.0  72.0  68.0  83.0  91.0  90.0  102.0  77.0  125.0  108.0  \n",
       "50%    74.0  72.0  68.0  83.0  91.0  90.0  102.0  77.0  125.0  108.0  \n",
       "75%    74.0  72.0  68.0  83.0  91.0  90.0  102.0  77.0  125.0  108.0  \n",
       "max    74.0  72.0  68.0  83.0  91.0  90.0  102.0  77.0  125.0  108.0  \n",
       "\n",
       "[8 rows x 35 columns]"
      ]
     },
     "execution_count": 53,
     "metadata": {},
     "output_type": "execute_result"
    }
   ],
   "source": [
    "df.describe()"
   ]
  },
  {
   "cell_type": "markdown",
   "metadata": {},
   "source": [
    "#### Veri Görselleştirme"
   ]
  },
  {
   "cell_type": "markdown",
   "metadata": {},
   "source": [
    "##### Kutu Grafikleri nedir?\n",
    "İstatistik biliminde kutu grafiği (İngilizce: Box plot) bir betimsel istatistik ve istatistiksel grafik aleti olup niceliksel verileri görsel şekilde özetlemek için Amerikan istatistikçi John Tukey tarafından kutu-ve-bıyıklar grafiği adı altında bir açıklayıcı veri analizi aracı olarak ilk defa geliştirilmiştir. Kutu grafiği, ilgili değişken bakımından veri için hazırlanan beş sayılı özetleme tablosu [1] gösterimini grafiksel olarak özetlemeye dayalıdır. Özellikle merkezsel konum, yayılma, çarpıklık ve basıklık yönünden verileri özetlemek ve aykırı değerleri tanımlamak için kullanılır.\n",
    "Veri setinin niteliklerini bir kutu grafiği görsel şekilde ifade eder:\n",
    "\n",
    "Merkezsel konum: Verinin merkezsel konumu kutunun içinde işaretlemiş olan medyan noktası ile gösterilir.\n",
    "\n",
    "Yayılma: Verinin yayılmasının açıklık ölçüsüyle ölçülen niteliği, \"kutu grafiği\"'nin (yatay veya dikey) tüm çizgisi ile görülür. Çeyrekler açıklığı ise \"kutu grafiği\"nde kutunun büyüklüğü ile görülür.\n",
    "\n",
    "Şekil:\n",
    "Çarpıklık: Verinin \"çarpıklık\" ölçüsü bu grafikte bulunmaz. Ama verinin çarpıklık karakteri kutunun tüm çizginin küçük Xmin tarafına mı yoksa büyük Xmaks tarafına mı yakın olması ile görülür. Eğer kutu, çizginin küçük tarafında ise, kutu içindeki medyan noktası Xmin değerine yakın olur ve kutu dışında kalan çizginin yüksek kısmı (yani Xmaksa doğru kısmı) pozitife doğru uzunca bir kuyruk gösterir. Bu demektir ki veri pozitif çarpıklık niteliği gösterir. Eğer kutu, çizginin büyük tarafında ise, yani medyan noktası Xmaks değerine yakın ise, kutu dışında kalan çizginin düşük kısmı (yani Xmine doğru kısmı) negatife doğru uzun kuyruklu olur ve böylece veri değerleri negatif çarpıklık gösterir. Ancak \"çarpıklık\" karakterini doğrudan doğruya ölçen bir sayısal ölçü \"kutu grafiği\"nden hemen doğrudan doğruya çıkmaz.\n",
    "\n",
    "Basıklık: Yine basıklık ölçüsü bu grafikte yoktur. Ama verinin basıklık niteliği hakkında bu grafikten bir kanaat edinilebilir. Dikkat edilirse bu kanaat edinme olup, epeyce zayıf, bir intiba edinme şeklindedir ve tam olarak basıklık niteliği öğrenilmez. Basıklık için bir kanaat sağlama kutunun genişliği ile çizginin genişliğini karşılaştırılma ile edinilebilir. Eğer kutu çizginin çoğunu kapsıyorsa genellikle verinin basık olduğu hakkında bir ilk intiba ortaya çıkabilir."
   ]
  },
  {
   "cell_type": "code",
   "execution_count": 64,
   "metadata": {},
   "outputs": [],
   "source": [
    "#Öncelikle veri görselleştirme için  gerekli kütüphaneleri yükleyelim\n",
    "import matplotlib.pyplot as plt"
   ]
  },
  {
   "cell_type": "code",
   "execution_count": 66,
   "metadata": {},
   "outputs": [
    {
     "data": {
      "image/png": "[encoded data removed]",
      "text/plain": [
       "<Figure size 640x480 with 1 Axes>"
      ]
     },
     "metadata": {},
     "output_type": "display_data"
    }
   ],
   "source": [
    "#Kutu grafikleri (box-plot)\n",
    "#Sağa çarpık dağılımlı bir kutu grafiği görülür\n",
    "df.plot(kind='box')\n",
    "plt.show()"
   ]
  },
  {
   "cell_type": "markdown",
   "metadata": {},
   "source": [
    "###### Sola çarpık dağılımlarda: Aritmetik Ortalama<Medyan<Mod.\n",
    "###### Sağa çarpık dağılımlarda: Mod<Medyan< Aritmetik Ortalama."
   ]
  },
  {
   "cell_type": "code",
   "execution_count": 67,
   "metadata": {},
   "outputs": [
    {
     "data": {
      "text/plain": [
       "<seaborn.axisgrid.PairGrid at 0x7fa99b1cf7c0>"
      ]
     },
     "execution_count": 67,
     "metadata": {},
     "output_type": "execute_result"
    },
    {
     "data": {
      "image/png": "[encoded data removed]",
      "text/plain": [
       "<Figure size 250x250 with 2 Axes>"
      ]
     },
     "metadata": {},
     "output_type": "display_data"
    }
   ],
   "source": [
    "#Veri setindeki değişkenlerin birbiri ile serpilme diyagramı çizdirilerek\n",
    "#verilerin ilişkisine bakalım\n",
    "sns.pairplot(df)"
   ]
  },
  {
   "cell_type": "markdown",
   "metadata": {},
   "source": [
    "####  Standart Sapma\n",
    "Standart sapma, Olasılık kuramı ve istatistik bilim dallarında, bir anakütle, bir örneklem, bir olasılık dağılımı veya bir rassal değişken, veri değerlerinin yayılımının özetlenmesi için kullanılan bir ölçüdür. Matematik notasyonunda genel olarak, bir anakütle veya bir rassal değişken veya bir olasılık dağılımı için standart sapma σ (eski Yunan harfi olan küçük sigma) ile ifade edilir; örneklem verileri için standart sapma için ise s veya s' (anakütle σ değeri için yansız kestirim kullanılır.)\n",
    "\n",
    "Standart sapma varyansın kareköküdür. Daha matematiksel bir ifade ile standart sapma veri değerlerinin aritmetik ortalamadan farklarının karelerinin toplamının veri sayısı -1'e bölümünün kareköküdür, yani verilerin ortalamadan sapmalarının kareler ortalamasının karekökü olarak tanımlanır. Standart sapma kavramının yayılma ölçüsü olarak kullanılmasını anlamak için ölçüm birimine bakmak gerekir. Diğer yayılma ölçüsü olan varyans verilerin ortalamadan farklarının karelerinin ortalaması olarak tanımlanır. Böylece varyans ölçüsü için veri birimlerinin karesi alınması gerekir ve varyansın birimi veri biriminin karesidir. Bu durum pratikte istenmeyen sonuçlar yaratabilir (Örneğin veriler birimi kilogram ise varyans birimi kilogram kare olur). Bundan kaçınmak için standart sapma için varyansın karekökü alınarak standart sapma birim veri birimi olması sağlanır ve verinin yayılımı böylece veri birimleri ile ölçülür.\n",
    "\n",
    "Standart sapma genel olarak niceliksel ölçekli sayılar için en çok kullanılan verilerin ortalamaya göre yayılmasını gösteren bir istatistiksel ölçüdür. Eğer birçok veri ortalamaya yakın ise, standart sapma değeri küçüktür; eğer birçok veri ortalamadan uzakta yayılmışlarsa standart sapma değeri büyük olur. Eğer bütün veri değerleri tıpatıp ayni ise standart sapma değeri sıfırdır."
   ]
  },
  {
   "cell_type": "code",
   "execution_count": 68,
   "metadata": {},
   "outputs": [
    {
     "data": {
      "text/plain": [
       "df    17.549929\n",
       "dtype: float64"
      ]
     },
     "execution_count": 68,
     "metadata": {},
     "output_type": "execute_result"
    }
   ],
   "source": [
    "# standart sapma işlemi için yazılması gereken kod\n",
    "np.std(df)"
   ]
  },
  {
   "cell_type": "markdown",
   "metadata": {},
   "source": [
    "#### Varyans\n",
    "Olasılık kuramı ve istatistik bilim dallarında varyans bir rassal değişken, bir olasılık dağılımı veya örneklem için istatistiksel yayılımın, mümkün bütün değerlerin beklenen değer veya ortalamadan uzaklıklarının karelerinin ortalaması şeklinde bulunan bir ölçüdür. Ortalama bir dağılımın merkezsel konum noktasını bulmaya çalışırken, varyans değerlerin ne ölçekte veya ne derecede yaygın olduklarını tanımlamayı hedef alır. Varyans için ölçülme birimi orijinal değişkenin biriminin karesidir. Varyansın kare kökü standart sapma olarak adlandırılır; bunun ölçme birimi orijinal değişkenle aynı birimde olur ve bu nedenle daha kolayca yorumlanabilir.\n",
    "\n",
    "Bir reel sayı halinde olan rassal değişkenin varyansı o rassal değişkenin ikinci merkezsel momenti ve aynı zamanda ikinci kümülantı olur. Eğer varyans değeri var ise, ortalama değeri de vardır. Ama bunun aksi doğru değildir."
   ]
  },
  {
   "cell_type": "code",
   "execution_count": 69,
   "metadata": {},
   "outputs": [
    {
     "data": {
      "text/plain": [
       "df    308.0\n",
       "dtype: float64"
      ]
     },
     "execution_count": 69,
     "metadata": {},
     "output_type": "execute_result"
    }
   ],
   "source": [
    "# varyans işlemi için yazılması gereken kod\n",
    "np.var(df)"
   ]
  },
  {
   "cell_type": "markdown",
   "metadata": {},
   "source": [
    "#### Yüzdelikler (Çeyreklikler)\n",
    "Küçüktek büyüğe doğru sıralanmış verileri dört eşit parçaya bölen değerlere çeyrek değerler denir. Birinci çeyreklik (Q1), veriler küçükten büyüğe sıralandığında verilerin %25'ini sağında %75'ini solunda bırakan değerdir.İkinci çeyreklik ortancaya denk gelmektedir.Üçüncü çeyrel değer (Q3), veriler küçükten büyüğe sıralandığında verilerin %75'ini sağında,%25'ini solunda bırakan değerdir. Yani sıralı verilerde, ortancadan küçük olan değerlerin ortancası birinci çeyrek değer, ortancadan büyük olan verilerin ortancası üçüncü çeyrek değerdir."
   ]
  },
  {
   "cell_type": "code",
   "execution_count": 70,
   "metadata": {},
   "outputs": [
    {
     "data": {
      "text/plain": [
       "array([ 76.5,  89.5, 100.4])"
      ]
     },
     "execution_count": 70,
     "metadata": {},
     "output_type": "execute_result"
    }
   ],
   "source": [
    "#yüzdelik değerler\n",
    "np.percentile(df,[25,50,72])"
   ]
  },
  {
   "cell_type": "markdown",
   "metadata": {},
   "source": [
    "Buradan açıklık 23.9 olarak bulunur."
   ]
  },
  {
   "cell_type": "markdown",
   "metadata": {},
   "source": [
    " Verilerin dağılımını incelediğimizde kulak rahatsızlığına sebep olabilecek bir desibel seviyesi ortalaması bulunmaktadır. Rahatsızlığa sebep olabilecek seviyelerden birinin 120 desibel ve üstü olduğunu düşünürsek gürültülü ve rahatsız edici bir ses seviyesi olduğunu söyelebiliriz."
   ]
  },
  {
   "cell_type": "code",
   "execution_count": null,
   "metadata": {},
   "outputs": [],
   "source": []
  }
 ],
 "metadata": {
  "kernelspec": {
   "display_name": "Python 3 (ipykernel)",
   "language": "python",
   "name": "python3"
  },
  "language_info": {
   "codemirror_mode": {
    "name": "ipython",
    "version": 3
   },
   "file_extension": ".py",
   "mimetype": "text/x-python",
   "name": "python",
   "nbconvert_exporter": "python",
   "pygments_lexer": "ipython3",
   "version": "3.10.6"
  }
 },
 "nbformat": 4,
 "nbformat_minor": 1
}
