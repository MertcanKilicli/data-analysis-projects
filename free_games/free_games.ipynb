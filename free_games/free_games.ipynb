{
 "cells": [
  {
   "cell_type": "code",
   "execution_count": 8,
   "metadata": {},
   "outputs": [],
   "source": [
    "import numpy as np\n",
    "import pandas as pd\n",
    "import matplotlib.pyplot as plt\n",
    "import seaborn as sns\n",
    "import warnings\n",
    "warnings.simplefilter(action = 'ignore') # uyarıları göz ardı edelim\n",
    "%matplotlib inline\n"
   ]
  },
  {
   "cell_type": "code",
   "execution_count": 9,
   "metadata": {},
   "outputs": [],
   "source": [
    "games = pd.read_csv('free_games.csv')"
   ]
  },
  {
   "cell_type": "code",
   "execution_count": 10,
   "metadata": {},
   "outputs": [
    {
     "data": {
      "text/html": [
       "<div>\n",
       "<style scoped>\n",
       "    .dataframe tbody tr th:only-of-type {\n",
       "        vertical-align: middle;\n",
       "    }\n",
       "\n",
       "    .dataframe tbody tr th {\n",
       "        vertical-align: top;\n",
       "    }\n",
       "\n",
       "    .dataframe thead th {\n",
       "        text-align: right;\n",
       "    }\n",
       "</style>\n",
       "<table border=\"1\" class=\"dataframe\">\n",
       "  <thead>\n",
       "    <tr style=\"text-align: right;\">\n",
       "      <th></th>\n",
       "      <th>id</th>\n",
       "      <th>title</th>\n",
       "      <th>short_description</th>\n",
       "      <th>game_url</th>\n",
       "      <th>genre</th>\n",
       "      <th>platform</th>\n",
       "      <th>publisher</th>\n",
       "      <th>developer</th>\n",
       "      <th>release_date</th>\n",
       "      <th>freetogame_profile_url</th>\n",
       "    </tr>\n",
       "  </thead>\n",
       "  <tbody>\n",
       "    <tr>\n",
       "      <th>0</th>\n",
       "      <td>6</td>\n",
       "      <td>Blade and Soul</td>\n",
       "      <td>A free-to-play martial arts MMORPG that tasks ...</td>\n",
       "      <td>https://www.freetogame.com/open/blade-and-soul</td>\n",
       "      <td>MMORPG</td>\n",
       "      <td>PC (Windows)</td>\n",
       "      <td>NCSoft</td>\n",
       "      <td>NCSoft</td>\n",
       "      <td>2016-01-19</td>\n",
       "      <td>https://www.freetogame.com/blade-and-soul</td>\n",
       "    </tr>\n",
       "    <tr>\n",
       "      <th>1</th>\n",
       "      <td>8</td>\n",
       "      <td>Trove</td>\n",
       "      <td>A free to play Sandbox massively multiplayer o...</td>\n",
       "      <td>https://www.freetogame.com/open/trove</td>\n",
       "      <td>MMORPG</td>\n",
       "      <td>PC (Windows)</td>\n",
       "      <td>Trion Worlds</td>\n",
       "      <td>Trion Worlds</td>\n",
       "      <td>2015-07-09</td>\n",
       "      <td>https://www.freetogame.com/trove</td>\n",
       "    </tr>\n",
       "    <tr>\n",
       "      <th>2</th>\n",
       "      <td>10</td>\n",
       "      <td>ArcheAge</td>\n",
       "      <td>A free-to-play, hybrid fantasy/sandbox MMORPG ...</td>\n",
       "      <td>https://www.freetogame.com/open/archeage</td>\n",
       "      <td>MMORPG</td>\n",
       "      <td>PC (Windows)</td>\n",
       "      <td>Kakao Games</td>\n",
       "      <td>XL Games</td>\n",
       "      <td>2014-09-04</td>\n",
       "      <td>https://www.freetogame.com/archeage</td>\n",
       "    </tr>\n",
       "    <tr>\n",
       "      <th>3</th>\n",
       "      <td>11</td>\n",
       "      <td>Neverwinter</td>\n",
       "      <td>A free-to-play 3D action MMORPG based on the a...</td>\n",
       "      <td>https://www.freetogame.com/open/neverwinter</td>\n",
       "      <td>MMORPG</td>\n",
       "      <td>PC (Windows)</td>\n",
       "      <td>Perfect World Entertainment</td>\n",
       "      <td>Cryptic Studios</td>\n",
       "      <td>2013-12-06</td>\n",
       "      <td>https://www.freetogame.com/neverwinter</td>\n",
       "    </tr>\n",
       "    <tr>\n",
       "      <th>4</th>\n",
       "      <td>13</td>\n",
       "      <td>Guild Wars 2</td>\n",
       "      <td>A free-to-play MMORPG, the follow-up to ArenaN...</td>\n",
       "      <td>https://www.freetogame.com/open/guild-wars-2</td>\n",
       "      <td>MMORPG</td>\n",
       "      <td>PC (Windows)</td>\n",
       "      <td>NCsoft</td>\n",
       "      <td>ArenaNet</td>\n",
       "      <td>2012-08-28</td>\n",
       "      <td>https://www.freetogame.com/guild-wars-2</td>\n",
       "    </tr>\n",
       "  </tbody>\n",
       "</table>\n",
       "</div>"
      ],
      "text/plain": [
       "   id           title                                  short_description  \\\n",
       "0   6  Blade and Soul  A free-to-play martial arts MMORPG that tasks ...   \n",
       "1   8           Trove  A free to play Sandbox massively multiplayer o...   \n",
       "2  10        ArcheAge  A free-to-play, hybrid fantasy/sandbox MMORPG ...   \n",
       "3  11     Neverwinter  A free-to-play 3D action MMORPG based on the a...   \n",
       "4  13    Guild Wars 2  A free-to-play MMORPG, the follow-up to ArenaN...   \n",
       "\n",
       "                                         game_url   genre      platform  \\\n",
       "0  https://www.freetogame.com/open/blade-and-soul  MMORPG  PC (Windows)   \n",
       "1           https://www.freetogame.com/open/trove  MMORPG  PC (Windows)   \n",
       "2        https://www.freetogame.com/open/archeage  MMORPG  PC (Windows)   \n",
       "3     https://www.freetogame.com/open/neverwinter  MMORPG  PC (Windows)   \n",
       "4    https://www.freetogame.com/open/guild-wars-2  MMORPG  PC (Windows)   \n",
       "\n",
       "                     publisher        developer release_date  \\\n",
       "0                       NCSoft           NCSoft   2016-01-19   \n",
       "1                 Trion Worlds     Trion Worlds   2015-07-09   \n",
       "2                  Kakao Games         XL Games   2014-09-04   \n",
       "3  Perfect World Entertainment  Cryptic Studios   2013-12-06   \n",
       "4                       NCsoft         ArenaNet   2012-08-28   \n",
       "\n",
       "                      freetogame_profile_url  \n",
       "0  https://www.freetogame.com/blade-and-soul  \n",
       "1           https://www.freetogame.com/trove  \n",
       "2        https://www.freetogame.com/archeage  \n",
       "3     https://www.freetogame.com/neverwinter  \n",
       "4    https://www.freetogame.com/guild-wars-2  "
      ]
     },
     "execution_count": 10,
     "metadata": {},
     "output_type": "execute_result"
    }
   ],
   "source": [
    "games.head()"
   ]
  },
  {
   "cell_type": "code",
   "execution_count": 19,
   "metadata": {},
   "outputs": [
    {
     "data": {
      "text/html": [
       "<div>\n",
       "<style scoped>\n",
       "    .dataframe tbody tr th:only-of-type {\n",
       "        vertical-align: middle;\n",
       "    }\n",
       "\n",
       "    .dataframe tbody tr th {\n",
       "        vertical-align: top;\n",
       "    }\n",
       "\n",
       "    .dataframe thead th {\n",
       "        text-align: right;\n",
       "    }\n",
       "</style>\n",
       "<table border=\"1\" class=\"dataframe\">\n",
       "  <thead>\n",
       "    <tr style=\"text-align: right;\">\n",
       "      <th></th>\n",
       "      <th>id</th>\n",
       "      <th>title</th>\n",
       "      <th>short_description</th>\n",
       "      <th>game_url</th>\n",
       "      <th>genre</th>\n",
       "      <th>platform</th>\n",
       "      <th>publisher</th>\n",
       "      <th>developer</th>\n",
       "      <th>release_date</th>\n",
       "      <th>freetogame_profile_url</th>\n",
       "    </tr>\n",
       "  </thead>\n",
       "  <tbody>\n",
       "    <tr>\n",
       "      <th>74</th>\n",
       "      <td>526</td>\n",
       "      <td>Chimeraland</td>\n",
       "      <td>Explore the open-world sandbox MMO game set in...</td>\n",
       "      <td>https://www.freetogame.com/open/chimeraland</td>\n",
       "      <td>MMORPG</td>\n",
       "      <td>PC (Windows)</td>\n",
       "      <td>Level Infinite</td>\n",
       "      <td>Pixel soft</td>\n",
       "      <td>2022-07-14</td>\n",
       "      <td>https://www.freetogame.com/chimeraland</td>\n",
       "    </tr>\n",
       "    <tr>\n",
       "      <th>75</th>\n",
       "      <td>527</td>\n",
       "      <td>Aero Tales Online</td>\n",
       "      <td>Aero Tales Online: The World is a free-to-play...</td>\n",
       "      <td>https://www.freetogame.com/open/aero-tales-online</td>\n",
       "      <td>MMORPG</td>\n",
       "      <td>PC (Windows)</td>\n",
       "      <td>Anisage Games</td>\n",
       "      <td>Anisage Games</td>\n",
       "      <td>2022-08-01</td>\n",
       "      <td>https://www.freetogame.com/aero-tales-online</td>\n",
       "    </tr>\n",
       "    <tr>\n",
       "      <th>76</th>\n",
       "      <td>528</td>\n",
       "      <td>Noah’s Heart</td>\n",
       "      <td>Noah’s Heart is an open-world MMORPG game with...</td>\n",
       "      <td>https://www.freetogame.com/open/noahs-heart</td>\n",
       "      <td>MMORPG</td>\n",
       "      <td>PC (Windows)</td>\n",
       "      <td>Archosaur Games</td>\n",
       "      <td>Archosaur Games</td>\n",
       "      <td>2022-07-28</td>\n",
       "      <td>https://www.freetogame.com/noahs-heart</td>\n",
       "    </tr>\n",
       "    <tr>\n",
       "      <th>77</th>\n",
       "      <td>529</td>\n",
       "      <td>Tower of Fantasy</td>\n",
       "      <td>Tower of Fantasy is a 3D open-world RPG, anime...</td>\n",
       "      <td>https://www.freetogame.com/open/tower-of-fantasy</td>\n",
       "      <td>MMORPG</td>\n",
       "      <td>PC (Windows)</td>\n",
       "      <td>Level Infinite</td>\n",
       "      <td>Hotta Studio</td>\n",
       "      <td>2022-08-10</td>\n",
       "      <td>https://www.freetogame.com/tower-of-fantasy</td>\n",
       "    </tr>\n",
       "    <tr>\n",
       "      <th>78</th>\n",
       "      <td>549</td>\n",
       "      <td>Summoners War: Chronicles</td>\n",
       "      <td>A multi-platform ARPG set in the Summoners War...</td>\n",
       "      <td>https://www.freetogame.com/open/summoners-war-...</td>\n",
       "      <td>MMORPG</td>\n",
       "      <td>PC (Windows)</td>\n",
       "      <td>Com2uS</td>\n",
       "      <td>Com2uS</td>\n",
       "      <td>2022-11-09</td>\n",
       "      <td>https://www.freetogame.com/summoners-war-chron...</td>\n",
       "    </tr>\n",
       "  </tbody>\n",
       "</table>\n",
       "</div>"
      ],
      "text/plain": [
       "     id                      title  \\\n",
       "74  526                Chimeraland   \n",
       "75  527          Aero Tales Online   \n",
       "76  528               Noah’s Heart   \n",
       "77  529           Tower of Fantasy   \n",
       "78  549  Summoners War: Chronicles   \n",
       "\n",
       "                                    short_description  \\\n",
       "74  Explore the open-world sandbox MMO game set in...   \n",
       "75  Aero Tales Online: The World is a free-to-play...   \n",
       "76  Noah’s Heart is an open-world MMORPG game with...   \n",
       "77  Tower of Fantasy is a 3D open-world RPG, anime...   \n",
       "78  A multi-platform ARPG set in the Summoners War...   \n",
       "\n",
       "                                             game_url   genre      platform  \\\n",
       "74        https://www.freetogame.com/open/chimeraland  MMORPG  PC (Windows)   \n",
       "75  https://www.freetogame.com/open/aero-tales-online  MMORPG  PC (Windows)   \n",
       "76        https://www.freetogame.com/open/noahs-heart  MMORPG  PC (Windows)   \n",
       "77   https://www.freetogame.com/open/tower-of-fantasy  MMORPG  PC (Windows)   \n",
       "78  https://www.freetogame.com/open/summoners-war-...  MMORPG  PC (Windows)   \n",
       "\n",
       "          publisher        developer release_date  \\\n",
       "74   Level Infinite       Pixel soft   2022-07-14   \n",
       "75    Anisage Games    Anisage Games   2022-08-01   \n",
       "76  Archosaur Games  Archosaur Games   2022-07-28   \n",
       "77   Level Infinite     Hotta Studio   2022-08-10   \n",
       "78           Com2uS           Com2uS   2022-11-09   \n",
       "\n",
       "                               freetogame_profile_url  \n",
       "74             https://www.freetogame.com/chimeraland  \n",
       "75       https://www.freetogame.com/aero-tales-online  \n",
       "76             https://www.freetogame.com/noahs-heart  \n",
       "77        https://www.freetogame.com/tower-of-fantasy  \n",
       "78  https://www.freetogame.com/summoners-war-chron...  "
      ]
     },
     "execution_count": 19,
     "metadata": {},
     "output_type": "execute_result"
    }
   ],
   "source": [
    "games.tail()"
   ]
  },
  {
   "cell_type": "code",
   "execution_count": 11,
   "metadata": {},
   "outputs": [
    {
     "name": "stdout",
     "output_type": "stream",
     "text": [
      "<class 'pandas.core.frame.DataFrame'>\n",
      "RangeIndex: 79 entries, 0 to 78\n",
      "Data columns (total 10 columns):\n",
      " #   Column                  Non-Null Count  Dtype \n",
      "---  ------                  --------------  ----- \n",
      " 0   id                      79 non-null     int64 \n",
      " 1   title                   79 non-null     object\n",
      " 2   short_description       79 non-null     object\n",
      " 3   game_url                79 non-null     object\n",
      " 4   genre                   79 non-null     object\n",
      " 5   platform                79 non-null     object\n",
      " 6   publisher               79 non-null     object\n",
      " 7   developer               79 non-null     object\n",
      " 8   release_date            79 non-null     object\n",
      " 9   freetogame_profile_url  79 non-null     object\n",
      "dtypes: int64(1), object(9)\n",
      "memory usage: 6.3+ KB\n"
     ]
    }
   ],
   "source": [
    "games.info()"
   ]
  },
  {
   "cell_type": "code",
   "execution_count": 12,
   "metadata": {},
   "outputs": [
    {
     "data": {
      "text/plain": [
       "(79, 10)"
      ]
     },
     "execution_count": 12,
     "metadata": {},
     "output_type": "execute_result"
    }
   ],
   "source": [
    "games.shape"
   ]
  },
  {
   "cell_type": "code",
   "execution_count": 13,
   "metadata": {},
   "outputs": [
    {
     "data": {
      "text/plain": [
       "id                        0\n",
       "title                     0\n",
       "short_description         0\n",
       "game_url                  0\n",
       "genre                     0\n",
       "platform                  0\n",
       "publisher                 0\n",
       "developer                 0\n",
       "release_date              0\n",
       "freetogame_profile_url    0\n",
       "dtype: int64"
      ]
     },
     "execution_count": 13,
     "metadata": {},
     "output_type": "execute_result"
    }
   ],
   "source": [
    "games.isnull().sum()"
   ]
  },
  {
   "cell_type": "code",
   "execution_count": 16,
   "metadata": {},
   "outputs": [
    {
     "data": {
      "text/html": [
       "<div>\n",
       "<style scoped>\n",
       "    .dataframe tbody tr th:only-of-type {\n",
       "        vertical-align: middle;\n",
       "    }\n",
       "\n",
       "    .dataframe tbody tr th {\n",
       "        vertical-align: top;\n",
       "    }\n",
       "\n",
       "    .dataframe thead th {\n",
       "        text-align: right;\n",
       "    }\n",
       "</style>\n",
       "<table border=\"1\" class=\"dataframe\">\n",
       "  <thead>\n",
       "    <tr style=\"text-align: right;\">\n",
       "      <th></th>\n",
       "      <th>id</th>\n",
       "    </tr>\n",
       "  </thead>\n",
       "  <tbody>\n",
       "    <tr>\n",
       "      <th>count</th>\n",
       "      <td>79.000000</td>\n",
       "    </tr>\n",
       "    <tr>\n",
       "      <th>mean</th>\n",
       "      <td>259.810127</td>\n",
       "    </tr>\n",
       "    <tr>\n",
       "      <th>std</th>\n",
       "      <td>134.351822</td>\n",
       "    </tr>\n",
       "    <tr>\n",
       "      <th>min</th>\n",
       "      <td>6.000000</td>\n",
       "    </tr>\n",
       "    <tr>\n",
       "      <th>25%</th>\n",
       "      <td>192.500000</td>\n",
       "    </tr>\n",
       "    <tr>\n",
       "      <th>50%</th>\n",
       "      <td>269.000000</td>\n",
       "    </tr>\n",
       "    <tr>\n",
       "      <th>75%</th>\n",
       "      <td>318.500000</td>\n",
       "    </tr>\n",
       "    <tr>\n",
       "      <th>max</th>\n",
       "      <td>549.000000</td>\n",
       "    </tr>\n",
       "  </tbody>\n",
       "</table>\n",
       "</div>"
      ],
      "text/plain": [
       "               id\n",
       "count   79.000000\n",
       "mean   259.810127\n",
       "std    134.351822\n",
       "min      6.000000\n",
       "25%    192.500000\n",
       "50%    269.000000\n",
       "75%    318.500000\n",
       "max    549.000000"
      ]
     },
     "execution_count": 16,
     "metadata": {},
     "output_type": "execute_result"
    }
   ],
   "source": [
    "games.describe()"
   ]
  },
  {
   "cell_type": "code",
   "execution_count": 17,
   "metadata": {},
   "outputs": [
    {
     "data": {
      "text/plain": [
       "0"
      ]
     },
     "execution_count": 17,
     "metadata": {},
     "output_type": "execute_result"
    }
   ],
   "source": [
    "games.duplicated().sum()"
   ]
  },
  {
   "cell_type": "code",
   "execution_count": null,
   "metadata": {},
   "outputs": [],
   "source": []
  },
  {
   "cell_type": "code",
   "execution_count": null,
   "metadata": {},
   "outputs": [],
   "source": []
  },
  {
   "cell_type": "code",
   "execution_count": null,
   "metadata": {},
   "outputs": [],
   "source": []
  },
  {
   "cell_type": "code",
   "execution_count": null,
   "metadata": {},
   "outputs": [],
   "source": []
  },
  {
   "cell_type": "code",
   "execution_count": null,
   "metadata": {},
   "outputs": [],
   "source": []
  },
  {
   "cell_type": "code",
   "execution_count": null,
   "metadata": {},
   "outputs": [],
   "source": []
  }
 ],
 "metadata": {
  "kernelspec": {
   "display_name": "Python 3",
   "language": "python",
   "name": "python3"
  },
  "language_info": {
   "codemirror_mode": {
    "name": "ipython",
    "version": 3
   },
   "file_extension": ".py",
   "mimetype": "text/x-python",
   "name": "python",
   "nbconvert_exporter": "python",
   "pygments_lexer": "ipython3",
   "version": "3.10.1"
  },
  "orig_nbformat": 4
 },
 "nbformat": 4,
 "nbformat_minor": 2
}
