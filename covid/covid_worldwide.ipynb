{
 "cells": [
  {
   "attachments": {},
   "cell_type": "markdown",
   "metadata": {},
   "source": [
    "# Introduction\n",
    "This dataset consists of cases of Corona Virus Disease (Covid) Worldwide. Some notable features included in this dataset are the amount of countries, total cases per country, active cases, total recovered as well as the total death's of people sufferingf rom Covid-19. "
   ]
  },
  {
   "attachments": {},
   "cell_type": "markdown",
   "metadata": {},
   "source": [
    "\n",
    "# Data Cleaning and Preparation\n",
    "\n",
    "Before making an analysis, it is wise to clean the data as well as organize the data to be used for deeper analysis later on. My data cleaning methods and preperation for this dataset include:\n",
    "\n",
    "1-Renaming Column names\n",
    "\n",
    "2- Replacing strings from a column\n",
    "\n",
    "3-Checking Missing Values\n",
    "\n",
    "4-Changing the Data Type for selected columns\n",
    "\n",
    "5-Dropping Rows with Null Values\n",
    "\n",
    "6-Filling in some Missing Data from Internet Research\n",
    "\n",
    "7-Dropping Columns\n",
    "\n"
   ]
  },
  {
   "cell_type": "markdown",
   "metadata": {},
   "source": []
  },
  {
   "cell_type": "markdown",
   "metadata": {},
   "source": []
  }
 ],
 "metadata": {
  "language_info": {
   "name": "python"
  },
  "orig_nbformat": 4
 },
 "nbformat": 4,
 "nbformat_minor": 2
}
